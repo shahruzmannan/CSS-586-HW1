{
 "cells": [
  {
   "cell_type": "code",
   "execution_count": 3,
   "id": "275a7a96",
   "metadata": {},
   "outputs": [],
   "source": [
    "import warnings\n",
    "warnings.filterwarnings('ignore')"
   ]
  },
  {
   "cell_type": "code",
   "execution_count": 4,
   "id": "34fa1759",
   "metadata": {},
   "outputs": [],
   "source": [
    "import scipy.io\n",
    "import tensorflow as tf\n",
    "\n",
    "\n",
    "from tensorflow import keras\n",
    "from keras.layers import Dense, BatchNormalization, Conv2D, MaxPooling2D, Flatten\n",
    "from keras.models import Sequential\n",
    "from keras.wrappers.scikit_learn import KerasClassifier\n",
    "\n",
    "\n",
    "from sklearn.model_selection import KFold\n",
    "from sklearn.model_selection import GridSearchCV\n",
    "from keras.losses import sparse_categorical_crossentropy\n",
    "\n",
    "import matplotlib.pyplot as plt\n",
    "import math\n",
    "import numpy as np"
   ]
  },
  {
   "cell_type": "code",
   "execution_count": 5,
   "id": "3b53ba62",
   "metadata": {},
   "outputs": [
    {
     "data": {
      "text/plain": [
       "{'__header__': b'MATLAB 5.0 MAT-file, Platform: PCWIN, Created on: Wed May 09 15:12:18 2007',\n",
       " '__version__': '1.0',\n",
       " '__globals__': [],\n",
       " 'fea': array([[-1.      , -1.      , -1.      , ..., -0.988672, -0.999475,\n",
       "         -0.999994],\n",
       "        [-0.999927, -0.993644, -0.900309, ..., -0.32939 , -0.584681,\n",
       "         -0.868793],\n",
       "        [-1.      , -1.      , -1.      , ..., -0.988116, -0.999864,\n",
       "         -1.      ],\n",
       "        ...,\n",
       "        [-0.999985, -0.998547, -0.966704, ..., -1.      , -1.      ,\n",
       "         -1.      ],\n",
       "        [-0.999889, -0.996943, -0.962894, ..., -0.998277, -0.999924,\n",
       "         -0.999998],\n",
       "        [-1.      , -1.      , -1.      , ..., -0.999995, -1.      ,\n",
       "         -1.      ]]),\n",
       " 'gnd': array([[7],\n",
       "        [6],\n",
       "        [5],\n",
       "        ...,\n",
       "        [5],\n",
       "        [1],\n",
       "        [2]], dtype=uint8)}"
      ]
     },
     "execution_count": 5,
     "metadata": {},
     "output_type": "execute_result"
    }
   ],
   "source": [
    "mat = scipy.io.loadmat('USPS_all.mat')\n",
    "mat"
   ]
  },
  {
   "cell_type": "code",
   "execution_count": 6,
   "id": "613e896b",
   "metadata": {},
   "outputs": [
    {
     "name": "stdout",
     "output_type": "stream",
     "text": [
      "(9298, 256)\n",
      "(9298, 1)\n"
     ]
    },
    {
     "data": {
      "text/plain": [
       "<matplotlib.image.AxesImage at 0x1cdb6417220>"
      ]
     },
     "execution_count": 6,
     "metadata": {},
     "output_type": "execute_result"
    },
    {
     "data": {
      "image/png": "[encoded data removed]",
      "text/plain": [
       "<Figure size 432x288 with 1 Axes>"
      ]
     },
     "metadata": {
      "needs_background": "light"
     },
     "output_type": "display_data"
    }
   ],
   "source": [
    "inputs = mat['fea']\n",
    "targets = mat['gnd']\n",
    "print(inputs.shape)\n",
    "print(targets.shape)\n",
    "\n",
    "reshapedInputs = []\n",
    "\n",
    "for row in inputs:\n",
    "    reshapedInputs.append(np.reshape(row,(16,16)))\n",
    "    \n",
    "reshapedInputs = np.array(reshapedInputs)\n",
    "plt.imshow(reshapedInputs[0])"
   ]
  },
  {
   "cell_type": "code",
   "execution_count": 7,
   "id": "cf213ea7",
   "metadata": {},
   "outputs": [],
   "source": [
    "num_folds = 5\n",
    "kfold = KFold(n_splits=num_folds, shuffle=True)\n",
    "fold_no = 1"
   ]
  },
  {
   "cell_type": "code",
   "execution_count": 8,
   "id": "654b55b8",
   "metadata": {},
   "outputs": [],
   "source": [
    "def create_model(layers, nodes=100, activation1=\"relu\", activation2=\"relu\", loss=\"sparse_categorical_crossentropy\", optimizer=\"adam\", bias='zeros'):    \n",
    "    model = Sequential()\n",
    "    for i in range(0, layers):\n",
    "        model.add(Conv2D(32,(3,3), activation=activation1, input_shape=(16,16,1), bias_initializer=bias))\n",
    "    \n",
    "    model.add(MaxPooling2D(pool_size=(2,2)))\n",
    "    model.add(Flatten())\n",
    "    \n",
    "    model.add(Dense(nodes, activation=activation1, bias_initializer=bias))\n",
    "    model.add(Dense(10, activation=activation2, bias_initializer=bias))\n",
    "    \n",
    "    model.compile(optimizer=optimizer, loss=loss, metrics=['accuracy'])\n",
    "    \n",
    "    return model"
   ]
  },
  {
   "cell_type": "code",
   "execution_count": 9,
   "id": "13983f14",
   "metadata": {
    "scrolled": true
   },
   "outputs": [
    {
     "name": "stdout",
     "output_type": "stream",
     "text": [
      "fold: 1\n",
      "Best accuracy: 0.1667114794254303\n",
      "Best params: {'batch_size': 32, 'epochs': 50, 'layers': 1}\n",
      "fold: 2\n",
      "Best accuracy: 0.16899704933166504\n",
      "Best params: {'batch_size': 32, 'epochs': 50, 'layers': 1}\n",
      "fold: 3\n",
      "Best accuracy: 0.16711480915546417\n",
      "Best params: {'batch_size': 32, 'epochs': 50, 'layers': 1}\n",
      "fold: 4\n",
      "Best accuracy: 0.16440381109714508\n",
      "Best params: {'batch_size': 32, 'epochs': 50, 'layers': 1}\n",
      "fold: 5\n",
      "Best accuracy: 0.16789890825748444\n",
      "Best params: {'batch_size': 32, 'epochs': 50, 'layers': 1}\n"
     ]
    }
   ],
   "source": [
    "#optimizing number of layer & number of nodes\n",
    "bestLayers = []\n",
    "for train, test in kfold.split(reshapedInputs, targets):\n",
    "    print(\"fold:\", fold_no)\n",
    "    model = KerasClassifier(build_fn=create_model)\n",
    "    \n",
    "    layers = [1,2,3]\n",
    "    batch_size = [32]\n",
    "    epochs = [50]\n",
    "    param_grid = dict(layers=layers, batch_size=batch_size, epochs=epochs)\n",
    "    \n",
    "    grid_search = GridSearchCV(estimator=model, param_grid=param_grid, n_jobs=-1, cv=[(slice(None), slice(None))])\n",
    "    grid_result = grid_search.fit(reshapedInputs[train], targets[train])\n",
    "    \n",
    "    bestLayers.append((grid_result.best_params_).get('layers'))\n",
    "    print(\"Best accuracy:\", grid_result.best_score_)\n",
    "    print(\"Best params:\", grid_result.best_params_)\n",
    "    fold_no += 1"
   ]
  },
  {
   "cell_type": "code",
   "execution_count": 10,
   "id": "83a9477a",
   "metadata": {},
   "outputs": [],
   "source": [
    "import statistics\n",
    "from statistics import mode\n",
    "\n",
    "bestLayer = mode(bestLayers)\n",
    "\n",
    "kfold = KFold(n_splits=num_folds, shuffle=True)\n",
    "fold_no = 1"
   ]
  },
  {
   "cell_type": "code",
   "execution_count": 11,
   "id": "420478fc",
   "metadata": {
    "scrolled": true
   },
   "outputs": [
    {
     "name": "stdout",
     "output_type": "stream",
     "text": [
      "fold: 1\n",
      "Best accuracy: 0.1685951203107834\n",
      "Best params: {'batch_size': 32, 'epochs': 50, 'layers': 1, 'nodes': 90}\n",
      "fold: 2\n",
      "Best accuracy: 0.1687271773815155\n",
      "Best params: {'batch_size': 32, 'epochs': 50, 'layers': 1, 'nodes': 90}\n",
      "fold: 3\n",
      "Best accuracy: 0.16711562871932983\n",
      "Best params: {'batch_size': 32, 'epochs': 50, 'layers': 1, 'nodes': 90}\n",
      "fold: 4\n",
      "Best accuracy: 0.16480790674686432\n",
      "Best params: {'batch_size': 32, 'epochs': 50, 'layers': 1, 'nodes': 90}\n",
      "fold: 5\n",
      "Best accuracy: 0.16601939201354982\n",
      "Best params: {'batch_size': 32, 'epochs': 50, 'layers': 1, 'nodes': 90}\n"
     ]
    }
   ],
   "source": [
    "bestNodes = []\n",
    "for train, test in kfold.split(reshapedInputs, targets):\n",
    "    print(\"fold:\", fold_no)\n",
    "    model = KerasClassifier(build_fn=create_model)\n",
    "    \n",
    "    layers = [bestLayer]\n",
    "    nodes = [90, 100, 110, 120]\n",
    "    batch_size = [32]\n",
    "    epochs = [50]\n",
    "    param_grid = dict(layers=layers, nodes=nodes, batch_size=batch_size, epochs=epochs)\n",
    "    \n",
    "    grid_search = GridSearchCV(estimator=model, param_grid=param_grid, n_jobs=-1)\n",
    "    grid_result = grid_search.fit(reshapedInputs[train], targets[train])\n",
    "    \n",
    "    bestNodes.append((grid_result.best_params_).get('nodes'))\n",
    "    print(\"Best accuracy:\", grid_result.best_score_)\n",
    "    print(\"Best params:\", grid_result.best_params_)\n",
    "    fold_no += 1"
   ]
  },
  {
   "cell_type": "code",
   "execution_count": 12,
   "id": "d31efa48",
   "metadata": {},
   "outputs": [],
   "source": [
    "bestNode = mode(bestNodes)\n",
    "\n",
    "kfold = KFold(n_splits=num_folds, shuffle=True)\n",
    "fold_no = 1"
   ]
  },
  {
   "cell_type": "code",
   "execution_count": 13,
   "id": "a3f0b63a",
   "metadata": {},
   "outputs": [
    {
     "name": "stdout",
     "output_type": "stream",
     "text": [
      "fold: 1\n",
      "Best accuracy: 0.1637548714876175\n",
      "Best params: {'batch_size': 32, 'bias': 'zeros', 'epochs': 50, 'layers': 1, 'nodes': 90}\n",
      "fold: 2\n",
      "Best accuracy: 0.16765235960483552\n",
      "Best params: {'batch_size': 32, 'bias': 'zeros', 'epochs': 50, 'layers': 1, 'nodes': 90}\n",
      "fold: 3\n",
      "Best accuracy: 0.16590577065944673\n",
      "Best params: {'batch_size': 32, 'bias': 'zeros', 'epochs': 50, 'layers': 1, 'nodes': 90}\n",
      "fold: 4\n",
      "Best accuracy: 0.16991624534130095\n",
      "Best params: {'batch_size': 32, 'bias': 'zeros', 'epochs': 50, 'layers': 1, 'nodes': 90}\n",
      "fold: 5\n",
      "Best accuracy: 0.16789911985397338\n",
      "Best params: {'batch_size': 32, 'bias': 'zeros', 'epochs': 50, 'layers': 1, 'nodes': 90}\n"
     ]
    }
   ],
   "source": [
    "bestBiasses = []\n",
    "for train, test in kfold.split(reshapedInputs, targets):\n",
    "    print(\"fold:\", fold_no)\n",
    "    model = KerasClassifier(build_fn=create_model)\n",
    "    \n",
    "    bias = ['zeros', 'ones']\n",
    "    layers = [bestLayer]\n",
    "    nodes = [bestNode]\n",
    "    batch_size = [32]\n",
    "    epochs = [50]\n",
    "    param_grid = dict(bias=bias, layers=layers, nodes=nodes, batch_size=batch_size, epochs=epochs)\n",
    "    \n",
    "    grid_search = GridSearchCV(estimator=model, param_grid=param_grid, n_jobs=-1)\n",
    "    grid_result = grid_search.fit(reshapedInputs[train], targets[train])\n",
    "    \n",
    "    bestBiasses.append((grid_result.best_params_).get('bias'))\n",
    "    print(\"Best accuracy:\", grid_result.best_score_)\n",
    "    print(\"Best params:\", grid_result.best_params_)\n",
    "    fold_no += 1"
   ]
  },
  {
   "cell_type": "code",
   "execution_count": 14,
   "id": "5185f32a",
   "metadata": {},
   "outputs": [],
   "source": [
    "bestBias = mode(bestBiasses)\n",
    "\n",
    "kfold = KFold(n_splits=num_folds, shuffle=True)\n",
    "fold_no = 1"
   ]
  },
  {
   "cell_type": "code",
   "execution_count": 15,
   "id": "e8475bc5",
   "metadata": {
    "scrolled": true
   },
   "outputs": [
    {
     "name": "stdout",
     "output_type": "stream",
     "text": [
      "fold: 1\n",
      "Best accuracy: 0.9800997614860535\n",
      "Best params: {'activation1': 'relu', 'activation2': 'softmax', 'batch_size': 32, 'bias': 'zeros', 'epochs': 50, 'layers': 1, 'nodes': 90}\n",
      "fold: 2\n",
      "Best accuracy: 0.9796974420547485\n",
      "Best params: {'activation1': 'relu', 'activation2': 'softmax', 'batch_size': 32, 'bias': 'zeros', 'epochs': 50, 'layers': 1, 'nodes': 90}\n",
      "fold: 3\n",
      "Best accuracy: 0.9780836343765259\n",
      "Best params: {'activation1': 'relu', 'activation2': 'softmax', 'batch_size': 32, 'bias': 'zeros', 'epochs': 50, 'layers': 1, 'nodes': 90}\n",
      "fold: 4\n",
      "Best accuracy: 0.9788916230201721\n",
      "Best params: {'activation1': 'relu', 'activation2': 'softmax', 'batch_size': 32, 'bias': 'zeros', 'epochs': 50, 'layers': 1, 'nodes': 90}\n",
      "fold: 5\n",
      "Best accuracy: 0.9758007764816284\n",
      "Best params: {'activation1': 'relu', 'activation2': 'softmax', 'batch_size': 32, 'bias': 'zeros', 'epochs': 50, 'layers': 1, 'nodes': 90}\n"
     ]
    }
   ],
   "source": [
    "bestActivation1 = []\n",
    "bestActivation2 = []\n",
    "for train, test in kfold.split(reshapedInputs, targets):\n",
    "    print(\"fold:\", fold_no)\n",
    "    model = KerasClassifier(build_fn=create_model)\n",
    "    \n",
    "    activation1 = ['relu','softmax']\n",
    "    activation2 = ['relu','softmax']\n",
    "    bias = [bestBias]\n",
    "    layers = [bestLayer]\n",
    "    nodes = [bestNode]\n",
    "    batch_size = [32]\n",
    "    epochs = [50]\n",
    "    param_grid = dict(activation1=activation1,activation2=activation2, bias=bias, layers=layers, nodes=nodes, batch_size=batch_size, epochs=epochs)\n",
    "    \n",
    "    grid_search = GridSearchCV(estimator=model, param_grid=param_grid)\n",
    "    grid_result = grid_search.fit(reshapedInputs[train], targets[train])\n",
    "    \n",
    "    bestActivation1.append((grid_result.best_params_).get('activation1'))\n",
    "    bestActivation2.append((grid_result.best_params_).get('activation2'))\n",
    "    print(\"Best accuracy:\", grid_result.best_score_)\n",
    "    print(\"Best params:\", grid_result.best_params_)\n",
    "    fold_no += 1"
   ]
  },
  {
   "cell_type": "code",
   "execution_count": 16,
   "id": "5b536927",
   "metadata": {},
   "outputs": [],
   "source": [
    "bActivation1 = mode(bestActivation1)\n",
    "bActivation2 = mode(bestActivation2)\n",
    "\n",
    "kfold = KFold(n_splits=num_folds, shuffle=True)\n",
    "fold_no = 1"
   ]
  },
  {
   "cell_type": "code",
   "execution_count": 17,
   "id": "adf041a3",
   "metadata": {
    "scrolled": true
   },
   "outputs": [
    {
     "name": "stdout",
     "output_type": "stream",
     "text": [
      "fold: 1\n",
      "Best accuracy: 0.9759315609931946\n",
      "Best params: {'activation1': 'relu', 'activation2': 'softmax', 'batch_size': 32, 'bias': 'zeros', 'epochs': 50, 'layers': 1, 'nodes': 90, 'optimizer': 'adam'}\n",
      "fold: 2\n",
      "Best accuracy: 0.976066780090332\n",
      "Best params: {'activation1': 'relu', 'activation2': 'softmax', 'batch_size': 32, 'bias': 'zeros', 'epochs': 50, 'layers': 1, 'nodes': 90, 'optimizer': 'Adamax'}\n",
      "fold: 3\n",
      "Best accuracy: 0.9768725991249084\n",
      "Best params: {'activation1': 'relu', 'activation2': 'softmax', 'batch_size': 32, 'bias': 'zeros', 'epochs': 50, 'layers': 1, 'nodes': 90, 'optimizer': 'Adamax'}\n",
      "fold: 4\n",
      "Best accuracy: 0.9784886717796326\n",
      "Best params: {'activation1': 'relu', 'activation2': 'softmax', 'batch_size': 32, 'bias': 'zeros', 'epochs': 50, 'layers': 1, 'nodes': 90, 'optimizer': 'adam'}\n",
      "fold: 5\n",
      "Best accuracy: 0.9805056095123291\n",
      "Best params: {'activation1': 'relu', 'activation2': 'softmax', 'batch_size': 32, 'bias': 'zeros', 'epochs': 50, 'layers': 1, 'nodes': 90, 'optimizer': 'adam'}\n"
     ]
    }
   ],
   "source": [
    "bestOptimizers = []\n",
    "for train, test in kfold.split(reshapedInputs, targets):\n",
    "    print(\"fold:\", fold_no)\n",
    "    model = KerasClassifier(build_fn=create_model)\n",
    "    \n",
    "    optimizer = ['adam', 'sgd', 'Adamax']\n",
    "    activation1 = [bActivation1]\n",
    "    activation2 = [bActivation2]\n",
    "    bias = [bestBias]\n",
    "    layers = [bestLayer]\n",
    "    nodes = [bestNode]\n",
    "    batch_size = [32]\n",
    "    epochs = [50]\n",
    "    param_grid = dict(optimizer=optimizer, activation1=activation1,activation2=activation2, bias=bias, layers=layers, nodes=nodes, batch_size=batch_size, epochs=epochs)\n",
    "    \n",
    "    grid_search = GridSearchCV(estimator=model, param_grid=param_grid, n_jobs=2)\n",
    "    grid_result = grid_search.fit(reshapedInputs[train], targets[train])\n",
    "    \n",
    "    bestOptimizers.append((grid_result.best_params_).get('optimizer'))\n",
    "    print(\"Best accuracy:\", grid_result.best_score_)\n",
    "    print(\"Best params:\", grid_result.best_params_)\n",
    "    fold_no += 1"
   ]
  },
  {
   "cell_type": "code",
   "execution_count": 18,
   "id": "6756e3b9",
   "metadata": {},
   "outputs": [],
   "source": [
    "bestOptimizer = mode(bestOptimizers)\n",
    "\n",
    "kfold = KFold(n_splits=num_folds, shuffle=True)\n",
    "fold_no = 1"
   ]
  },
  {
   "cell_type": "code",
   "execution_count": 19,
   "id": "1c84b044",
   "metadata": {
    "scrolled": true
   },
   "outputs": [
    {
     "name": "stdout",
     "output_type": "stream",
     "text": [
      "fold: 1\n",
      "Best accuracy: 0.981041157245636\n",
      "Best params: {'activation1': 'relu', 'activation2': 'softmax', 'batch_size': 16, 'bias': 'zeros', 'epochs': 50, 'layers': 1, 'nodes': 90, 'optimizer': 'adam'}\n",
      "fold: 2\n",
      "Best accuracy: 0.9806375861167907\n",
      "Best params: {'activation1': 'relu', 'activation2': 'softmax', 'batch_size': 16, 'bias': 'zeros', 'epochs': 70, 'layers': 1, 'nodes': 90, 'optimizer': 'adam'}\n",
      "fold: 3\n",
      "Best accuracy: 0.9814437627792358\n",
      "Best params: {'activation1': 'relu', 'activation2': 'softmax', 'batch_size': 64, 'bias': 'zeros', 'epochs': 80, 'layers': 1, 'nodes': 90, 'optimizer': 'adam'}\n",
      "fold: 4\n",
      "Best accuracy: 0.9806397438049317\n",
      "Best params: {'activation1': 'relu', 'activation2': 'softmax', 'batch_size': 16, 'bias': 'zeros', 'epochs': 60, 'layers': 1, 'nodes': 90, 'optimizer': 'adam'}\n",
      "fold: 5\n",
      "Best accuracy: 0.9796979784965515\n",
      "Best params: {'activation1': 'relu', 'activation2': 'softmax', 'batch_size': 32, 'bias': 'zeros', 'epochs': 70, 'layers': 1, 'nodes': 90, 'optimizer': 'adam'}\n"
     ]
    }
   ],
   "source": [
    "bestEpochs = []\n",
    "bestBatches = []\n",
    "for train, test in kfold.split(reshapedInputs, targets):\n",
    "    print(\"fold:\", fold_no)\n",
    "    model = KerasClassifier(build_fn=create_model)\n",
    "    \n",
    "    optimizer = [bestOptimizer]\n",
    "    activation1 = [bActivation1]\n",
    "    activation2 = [bActivation2]\n",
    "    bias = [bestBias]\n",
    "    layers = [bestLayer]\n",
    "    nodes = [bestNode]\n",
    "    batch_size = [16,32,64,128]\n",
    "    epochs = [40,50,60,70,80]\n",
    "    param_grid = dict(optimizer=optimizer, activation1=activation1,activation2=activation2, bias=bias, layers=layers, nodes=nodes, batch_size=batch_size, epochs=epochs)\n",
    "    \n",
    "    grid_search = GridSearchCV(estimator=model, param_grid=param_grid, n_jobs=-1)\n",
    "    grid_result = grid_search.fit(reshapedInputs[train], targets[train])\n",
    "    \n",
    "    bestBatches.append((grid_result.best_params_).get('batch_size'))\n",
    "    bestEpochs.append((grid_result.best_params_).get('epochs'))\n",
    "    print(\"Best accuracy:\", grid_result.best_score_)\n",
    "    print(\"Best params:\", grid_result.best_params_)\n",
    "    fold_no += 1"
   ]
  },
  {
   "cell_type": "code",
   "execution_count": 20,
   "id": "cfd49c1a",
   "metadata": {},
   "outputs": [],
   "source": [
    "bestEpoch = mode(bestEpochs)\n",
    "bestBatch = mode(bestBatches)\n",
    "\n",
    "kfold = KFold(n_splits=num_folds, shuffle=True)\n",
    "fold_no = 1"
   ]
  },
  {
   "cell_type": "code",
   "execution_count": 21,
   "id": "5ebadc3a",
   "metadata": {},
   "outputs": [],
   "source": [
    "def create_model1(layers, nodes=100, activation1=\"relu\", activation2=\"relu\", loss=\"sparse_categorical_crossentropy\", learn_rate=0.01, bias='zeros'):    \n",
    "    model = Sequential()\n",
    "    for i in range(0, layers):\n",
    "        model.add(Conv2D(32,(3,3), activation=activation1, input_shape=(16,16,1), bias_initializer=bias))\n",
    "    \n",
    "    model.add(MaxPooling2D(pool_size=(2,2)))\n",
    "    model.add(Flatten())\n",
    "    \n",
    "    model.add(Dense(nodes, activation=activation1, bias_initializer=bias))\n",
    "    model.add(Dense(10, activation=activation2, bias_initializer=bias))\n",
    "    \n",
    "    optimizer = keras.optimizers.Adam(learning_rate=learn_rate)\n",
    "    model.compile(optimizer=optimizer, loss=loss, metrics=['accuracy'])\n",
    "    \n",
    "    return model"
   ]
  },
  {
   "cell_type": "code",
   "execution_count": 23,
   "id": "32120bb9",
   "metadata": {
    "scrolled": true
   },
   "outputs": [
    {
     "name": "stdout",
     "output_type": "stream",
     "text": [
      "fold: 6\n",
      "Best accuracy: 0.9795623064041138\n",
      "Best params: {'activation1': 'relu', 'activation2': 'softmax', 'batch_size': 16, 'bias': 'zeros', 'epochs': 70, 'layers': 1, 'learn_rate': 0.001, 'nodes': 90}\n",
      "fold: 7\n",
      "Best accuracy: 0.9757992267608643\n",
      "Best params: {'activation1': 'relu', 'activation2': 'softmax', 'batch_size': 16, 'bias': 'zeros', 'epochs': 70, 'layers': 1, 'learn_rate': 0.001, 'nodes': 90}\n",
      "fold: 8\n",
      "Best accuracy: 0.9792927622795105\n",
      "Best params: {'activation1': 'relu', 'activation2': 'softmax', 'batch_size': 16, 'bias': 'zeros', 'epochs': 70, 'layers': 1, 'learn_rate': 0.001, 'nodes': 90}\n",
      "fold: 9\n",
      "Best accuracy: 0.9790266633033753\n",
      "Best params: {'activation1': 'relu', 'activation2': 'softmax', 'batch_size': 16, 'bias': 'zeros', 'epochs': 70, 'layers': 1, 'learn_rate': 0.001, 'nodes': 90}\n",
      "fold: 10\n",
      "Best accuracy: 0.9807740688323975\n",
      "Best params: {'activation1': 'relu', 'activation2': 'softmax', 'batch_size': 16, 'bias': 'zeros', 'epochs': 70, 'layers': 1, 'learn_rate': 0.001, 'nodes': 90}\n"
     ]
    }
   ],
   "source": [
    "bestLearnRates = []\n",
    "for train, test in kfold.split(reshapedInputs, targets):\n",
    "    print(\"fold:\", fold_no)\n",
    "    model = KerasClassifier(build_fn=create_model1)\n",
    "    \n",
    "    learn_rate = [0.001, 0.01, 0.1, 0.2, 0.3]\n",
    "    activation1 = [bActivation1]\n",
    "    activation2 = [bActivation2]\n",
    "    bias = [bestBias]\n",
    "    layers = [bestLayer]\n",
    "    nodes = [bestNode]\n",
    "    batch_size = [bestBatch]\n",
    "    epochs = [bestEpoch]\n",
    "    param_grid = dict(learn_rate=learn_rate, activation1=activation1,activation2=activation2, bias=bias, layers=layers, nodes=nodes, batch_size=batch_size, epochs=epochs)\n",
    "    \n",
    "    grid_search = GridSearchCV(estimator=model, param_grid=param_grid, n_jobs=3)\n",
    "    grid_result = grid_search.fit(reshapedInputs[train], targets[train])\n",
    "    \n",
    "    bestLearnRates.append((grid_result.best_params_).get('learn_rate'))\n",
    "\n",
    "    print(\"Best accuracy:\", grid_result.best_score_)\n",
    "    print(\"Best params:\", grid_result.best_params_)\n",
    "    fold_no += 1"
   ]
  },
  {
   "cell_type": "code",
   "execution_count": 24,
   "id": "6ad6ccfe",
   "metadata": {},
   "outputs": [],
   "source": [
    "bestLearnRate = mode(bestLearnRates)"
   ]
  },
  {
   "cell_type": "code",
   "execution_count": 33,
   "id": "8187161f",
   "metadata": {},
   "outputs": [
    {
     "name": "stdout",
     "output_type": "stream",
     "text": [
      "Best number of layers: 1\n",
      "Best number of nodes: 90\n",
      "Best bias initializer: zeros\n",
      "Best activation function 1: relu\n",
      "Best activation function 2: softmax\n",
      "Best optimizer: adam\n",
      "Best number of epochs: 70\n",
      "Best batch size: 16\n",
      "Best learning rate: 0.001\n"
     ]
    }
   ],
   "source": [
    "print(\"Best number of layers:\", bestLayer)\n",
    "print(\"Best number of nodes:\", bestNode)\n",
    "print(\"Best bias initializer:\", bestBias)\n",
    "print(\"Best activation function 1:\", bActivation1)\n",
    "print(\"Best activation function 2:\", bActivation2)\n",
    "print(\"Best optimizer:\", bestOptimizer)\n",
    "print(\"Best number of epochs:\", bestEpoch)\n",
    "print(\"Best batch size:\", bestBatch)\n",
    "print(\"Best learning rate:\", bestLearnRate)"
   ]
  },
  {
   "cell_type": "code",
   "execution_count": 73,
   "id": "8d19f6d4",
   "metadata": {},
   "outputs": [],
   "source": [
    "def create_model2(loss=\"sparse_categorical_crossentropy\"):    \n",
    "    model = Sequential()\n",
    "    model.add(Conv2D(32,(3,3), activation='relu', input_shape=(16,16,1), bias_initializer='zeros'))\n",
    "    \n",
    "    model.add(MaxPooling2D(pool_size=(2,2)))\n",
    "    model.add(Flatten())\n",
    "    \n",
    "    model.add(Dense(90, activation='relu', bias_initializer='zeros'))\n",
    "    model.add(Dense(10, activation='softmax', bias_initializer='zeros'))\n",
    "    \n",
    "    optimizer = keras.optimizers.Adam(learning_rate=0.001)\n",
    "    model.compile(optimizer=optimizer, loss=loss, metrics=['accuracy'])\n",
    "    \n",
    "    return model"
   ]
  },
  {
   "cell_type": "code",
   "execution_count": 74,
   "id": "a9c48b09",
   "metadata": {},
   "outputs": [],
   "source": [
    "kfold = KFold(n_splits=2, shuffle=True)\n",
    "fold_no = 1"
   ]
  },
  {
   "cell_type": "code",
   "execution_count": 84,
   "id": "aa6a65c8",
   "metadata": {
    "scrolled": false
   },
   "outputs": [
    {
     "name": "stdout",
     "output_type": "stream",
     "text": [
      "fold: 1\n",
      "Precision:  0.9800324728375929\n",
      "Recall:  0.9799956979995698\n",
      "F1 score:  0.9799562430882062\n",
      "\n",
      "\n",
      "fold: 2\n",
      "Precision:  0.9781058117013591\n",
      "Recall:  0.9780597978059797\n",
      "F1 score:  0.9780447421028026\n",
      "\n",
      "\n"
     ]
    }
   ],
   "source": [
    "from sklearn.model_selection import train_test_split\n",
    "from sklearn.metrics import roc_curve,auc, precision_score, recall_score, f1_score\n",
    "\n",
    "for train, test in kfold.split(reshapedInputs, targets):\n",
    "    model = KerasClassifier(build_fn=create_model2)\n",
    "    hist = model.fit(reshapedInputs[train],targets[train], epochs=70, batch_size=16)\n",
    "    \n",
    "    pred1 = model.predict(reshapedInputs[test])\n",
    "    pred2 = model.predict_proba(reshapedInputs[test])\n",
    "    \n",
    "    precision = precision_score(targets[test],pred1, average='weighted')\n",
    "    recall = recall_score(targets[test],pred1, average='weighted')\n",
    "    f1 = f1_score(targets[test],pred1, average='weighted')\n",
    "    \n",
    "    print(\"Precision: \", precision)\n",
    "    print(\"Recall: \", recall)\n",
    "    print(\"F1 score: \", f1)\n",
    "    print(\"\\n\")\n"
   ]
  },
  {
   "cell_type": "code",
   "execution_count": null,
   "id": "69b049e7",
   "metadata": {},
   "outputs": [],
   "source": []
  },
  {
   "cell_type": "code",
   "execution_count": null,
   "id": "842c80c2",
   "metadata": {},
   "outputs": [],
   "source": []
  }
 ],
 "metadata": {
  "kernelspec": {
   "display_name": "Python 3",
   "language": "python",
   "name": "python3"
  },
  "language_info": {
   "codemirror_mode": {
    "name": "ipython",
    "version": 3
   },
   "file_extension": ".py",
   "mimetype": "text/x-python",
   "name": "python",
   "nbconvert_exporter": "python",
   "pygments_lexer": "ipython3",
   "version": "3.9.7"
  }
 },
 "nbformat": 4,
 "nbformat_minor": 5
}
